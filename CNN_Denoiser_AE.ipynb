{
  "nbformat": 4,
  "nbformat_minor": 0,
  "metadata": {
    "colab": {
      "name": "CNN Denoiser OG.ipynb",
      "provenance": [],
      "collapsed_sections": []
    },
    "kernelspec": {
      "name": "python3",
      "display_name": "Python 3"
    },
    "language_info": {
      "name": "python"
    },
    "accelerator": "GPU"
  },
  "cells": [
    {
      "cell_type": "code",
      "metadata": {
        "id": "XNYJgzG1ZPul"
      },
      "source": [
        "import torch\n",
        "import torchvision\n",
        "from torchvision import datasets,transforms\n"
      ],
      "execution_count": null,
      "outputs": []
    },
    {
      "cell_type": "code",
      "metadata": {
        "colab": {
          "base_uri": "https://localhost:8080/"
        },
        "id": "rnEtPM6CZbNr",
        "outputId": "cf3f5dc1-5d1a-4886-82e5-faa5d37a2bd1"
      },
      "source": [
        "train = datasets.MNIST('',train = True, download = True, transform = transforms.Compose([transforms.ToTensor()]))\n",
        "trainset = torch.utils.data.DataLoader(train,batch_size = 32,shuffle = True)\n",
        "test = datasets.MNIST('',train = False, download = True, transform = transforms.Compose([transforms.ToTensor()]))\n",
        "testset = torch.utils.data.DataLoader(test,batch_size = 32,shuffle = True)\n",
        "print(train.data.size())"
      ],
      "execution_count": null,
      "outputs": [
        {
          "output_type": "stream",
          "name": "stdout",
          "text": [
            "torch.Size([60000, 28, 28])\n"
          ]
        }
      ]
    },
    {
      "cell_type": "code",
      "metadata": {
        "id": "_kEvSl7cbmSd"
      },
      "source": [
        "import torch.nn as nn\n",
        "import torch.nn.functional as F"
      ],
      "execution_count": null,
      "outputs": []
    },
    {
      "cell_type": "code",
      "metadata": {
        "colab": {
          "base_uri": "https://localhost:8080/"
        },
        "id": "p13p41nZl8Ek",
        "outputId": "20a82903-a2ff-4c20-d655-bdcb721b1d7b"
      },
      "source": [
        "device = torch.device('cuda' if torch.cuda.is_available() else 'cpu')\n",
        "print(device)"
      ],
      "execution_count": null,
      "outputs": [
        {
          "output_type": "stream",
          "name": "stdout",
          "text": [
            "cuda\n"
          ]
        }
      ]
    },
    {
      "cell_type": "code",
      "metadata": {
        "colab": {
          "base_uri": "https://localhost:8080/"
        },
        "id": "PiXAiz8Dby7n",
        "outputId": "812f82d6-c7f9-4c4b-faa8-1d3347b35cec"
      },
      "source": [
        "class Model(nn.Module):\n",
        "  def __init__(self):\n",
        "    super().__init__()\n",
        "    #encoding layers\n",
        "    self.conv1 = nn.Conv2d(1,32,3,padding=1,stride=2)\n",
        "    self.conv2 = nn.Conv2d(32,64,3,padding=1,stride=2)\n",
        "    self.conv3 = nn.Conv2d(64,128,5)\n",
        "\n",
        "\n",
        "    #decoding layers\n",
        "    self.tconv1 = nn.ConvTranspose2d(128,64,5)\n",
        "    self.tconv2 = nn.ConvTranspose2d(64,32,3,stride=2,padding=1,output_padding=1)\n",
        "    self.tconv3 = nn.ConvTranspose2d(32,1,3,stride=2,padding=1,output_padding=1)\n",
        "\n",
        "  \n",
        "  #forward prop function \n",
        "  def forward(self,x):\n",
        "    x = F.relu(self.conv1(x))\n",
        "    # print(x.size())\n",
        "    x = F.relu(self.conv2(x))\n",
        "    # print(x.size())\n",
        "    x = F.relu(self.conv3(x))\n",
        "    # print(x.size())\n",
        "\n",
        "    x = F.relu(self.tconv1(x))\n",
        "    # print(x.size())\n",
        "    x = F.relu(self.tconv2(x))\n",
        "    # print(x.size())\n",
        "    x = F.sigmoid(self.tconv3(x)) #final layer is applied sigmoid activation\n",
        "    # print(x.size())\n",
        "\n",
        "    return x\n",
        "\n",
        "model = Model()\n",
        "print(model)\n"
      ],
      "execution_count": null,
      "outputs": [
        {
          "output_type": "stream",
          "name": "stdout",
          "text": [
            "Model(\n",
            "  (conv1): Conv2d(1, 32, kernel_size=(3, 3), stride=(2, 2), padding=(1, 1))\n",
            "  (conv2): Conv2d(32, 64, kernel_size=(3, 3), stride=(2, 2), padding=(1, 1))\n",
            "  (conv3): Conv2d(64, 128, kernel_size=(5, 5), stride=(1, 1))\n",
            "  (tconv1): ConvTranspose2d(128, 64, kernel_size=(5, 5), stride=(1, 1))\n",
            "  (tconv2): ConvTranspose2d(64, 32, kernel_size=(3, 3), stride=(2, 2), padding=(1, 1), output_padding=(1, 1))\n",
            "  (tconv3): ConvTranspose2d(32, 1, kernel_size=(3, 3), stride=(2, 2), padding=(1, 1), output_padding=(1, 1))\n",
            ")\n"
          ]
        }
      ]
    },
    {
      "cell_type": "code",
      "metadata": {
        "colab": {
          "base_uri": "https://localhost:8080/"
        },
        "id": "_nxAfalAm5R3",
        "outputId": "08f671f6-94fd-4267-ca22-42053c1f033f"
      },
      "source": [
        "model.to(device) #shifting model to cuda"
      ],
      "execution_count": null,
      "outputs": [
        {
          "output_type": "execute_result",
          "data": {
            "text/plain": [
              "Model(\n",
              "  (conv1): Conv2d(1, 32, kernel_size=(3, 3), stride=(2, 2), padding=(1, 1))\n",
              "  (conv2): Conv2d(32, 64, kernel_size=(3, 3), stride=(2, 2), padding=(1, 1))\n",
              "  (conv3): Conv2d(64, 128, kernel_size=(5, 5), stride=(1, 1))\n",
              "  (tconv1): ConvTranspose2d(128, 64, kernel_size=(5, 5), stride=(1, 1))\n",
              "  (tconv2): ConvTranspose2d(64, 32, kernel_size=(3, 3), stride=(2, 2), padding=(1, 1), output_padding=(1, 1))\n",
              "  (tconv3): ConvTranspose2d(32, 1, kernel_size=(3, 3), stride=(2, 2), padding=(1, 1), output_padding=(1, 1))\n",
              ")"
            ]
          },
          "metadata": {},
          "execution_count": 51
        }
      ]
    },
    {
      "cell_type": "code",
      "metadata": {
        "id": "LpUthJvwlWJy"
      },
      "source": [
        "import torch.optim as optim\n",
        "loss_function = nn.MSELoss() #mean-squared error loss_function\n",
        "optimizer = optim.Adam(model.parameters(),lr=0.001)"
      ],
      "execution_count": null,
      "outputs": []
    },
    {
      "cell_type": "code",
      "metadata": {
        "id": "K3z67Hfxlmkm"
      },
      "source": [
        "#function to add noise to input images\n",
        "def add_noise(inputs,noise_factor=0.3):\n",
        "  noisy = inputs + (torch.randn_like(inputs) * noise_factor)\n",
        "  noisy = torch.clip(noisy,0.,1.)\n",
        "  return noisy"
      ],
      "execution_count": null,
      "outputs": []
    },
    {
      "cell_type": "code",
      "metadata": {
        "colab": {
          "base_uri": "https://localhost:8080/"
        },
        "id": "jn_4O2lRmA5U",
        "outputId": "34358975-9022-4d1e-a8b5-2e0362e3ab8c"
      },
      "source": [
        "losses = [] #list containing average loss of each epoch\n",
        "running_loss = 0\n",
        "l = len(trainset)\n",
        "\n",
        "#training loop\n",
        "for epoch in range(10):\n",
        "  for t in trainset:\n",
        "    images,_ = t\n",
        "    noisy_images = add_noise(images)\n",
        "    images = images.to(device)\n",
        "    noisy_images = noisy_images.to(device) #shifting noisy images to cuda\n",
        "    \n",
        "    model.zero_grad()\n",
        "    output = model(noisy_images)\n",
        "    \n",
        "    loss = loss_function(output,images) #loss is calculated between model output and og dataset images\n",
        "    loss.backward()\n",
        "    optimizer.step()\n",
        "\n",
        "    running_loss+=loss.item() \n",
        "  losses.append(running_loss/l)\n",
        "  running_loss = 0\n",
        "  print(loss) #prints loss of the last batch of the epoch"
      ],
      "execution_count": null,
      "outputs": [
        {
          "output_type": "stream",
          "name": "stderr",
          "text": [
            "/usr/local/lib/python3.7/dist-packages/torch/nn/functional.py:1805: UserWarning: nn.functional.sigmoid is deprecated. Use torch.sigmoid instead.\n",
            "  warnings.warn(\"nn.functional.sigmoid is deprecated. Use torch.sigmoid instead.\")\n"
          ]
        },
        {
          "output_type": "stream",
          "name": "stdout",
          "text": [
            "tensor(0.0060, device='cuda:0', grad_fn=<MseLossBackward>)\n",
            "tensor(0.0054, device='cuda:0', grad_fn=<MseLossBackward>)\n",
            "tensor(0.0055, device='cuda:0', grad_fn=<MseLossBackward>)\n",
            "tensor(0.0052, device='cuda:0', grad_fn=<MseLossBackward>)\n",
            "tensor(0.0050, device='cuda:0', grad_fn=<MseLossBackward>)\n",
            "tensor(0.0052, device='cuda:0', grad_fn=<MseLossBackward>)\n",
            "tensor(0.0048, device='cuda:0', grad_fn=<MseLossBackward>)\n",
            "tensor(0.0047, device='cuda:0', grad_fn=<MseLossBackward>)\n",
            "tensor(0.0047, device='cuda:0', grad_fn=<MseLossBackward>)\n",
            "tensor(0.0047, device='cuda:0', grad_fn=<MseLossBackward>)\n"
          ]
        }
      ]
    },
    {
      "cell_type": "code",
      "metadata": {
        "id": "C_cx3ErznvHU"
      },
      "source": [
        "#moving images to cpu for plotting\n",
        "noisy_images_cpu = noisy_images.cpu()\n",
        "output_cpu = output.cpu()"
      ],
      "execution_count": null,
      "outputs": []
    },
    {
      "cell_type": "code",
      "metadata": {
        "id": "AxGg2_WWnlWq",
        "colab": {
          "base_uri": "https://localhost:8080/",
          "height": 299
        },
        "outputId": "6afcf8d5-8a19-4696-a308-84c45d3d3477"
      },
      "source": [
        "import matplotlib.pyplot as plt\n",
        "print(losses)\n",
        "plt.plot(losses)\n"
      ],
      "execution_count": null,
      "outputs": [
        {
          "output_type": "stream",
          "name": "stdout",
          "text": [
            "[0.01429022889956832, 0.005862985095381737, 0.0053969312414526936, 0.005142434365550677, 0.004994625572984418, 0.004893096757183473, 0.004813497733324766, 0.004734451262777051, 0.0046844772449384136, 0.004632013918583592]\n"
          ]
        },
        {
          "output_type": "execute_result",
          "data": {
            "text/plain": [
              "[<matplotlib.lines.Line2D at 0x7f477ef5f950>]"
            ]
          },
          "metadata": {},
          "execution_count": 56
        },
        {
          "output_type": "display_data",
          "data": {
            "image/png": "[encoded data removed]",
            "text/plain": [
              "<Figure size 432x288 with 1 Axes>"
            ]
          },
          "metadata": {
            "needs_background": "light"
          }
        }
      ]
    },
    {
      "cell_type": "code",
      "metadata": {
        "id": "G8TP2E1Nnq3g",
        "colab": {
          "base_uri": "https://localhost:8080/",
          "height": 517
        },
        "outputId": "16e49b37-3be0-4efa-fb60-2273ea25c05f"
      },
      "source": [
        "noisy_images_cpu = noisy_images_cpu.detach().numpy()\n",
        "noisy_images_cpu = noisy_images_cpu.reshape(-1,28,28)\n",
        "output_cpu = output_cpu.detach().numpy()\n",
        "output_cpu = output_cpu.reshape(-1,28,28)\n",
        "for j in range(6):\n",
        "  plt.subplot(2,3,j+1)\n",
        "  plt.imshow(noisy_images_cpu[j],cmap='gray')\n",
        "plt.show()  \n",
        "for j in range(6):\n",
        "  plt.subplot(2,3,j+1)\n",
        "  plt.imshow(output_cpu[j],cmap='gray') \n",
        "plt.show() "
      ],
      "execution_count": null,
      "outputs": [
        {
          "output_type": "display_data",
          "data": {
            "image/png": "[encoded data removed]",
            "text/plain": [
              "<Figure size 432x288 with 6 Axes>"
            ]
          },
          "metadata": {
            "needs_background": "light"
          }
        },
        {
          "output_type": "display_data",
          "data": {
            "image/png": "[encoded data removed]",
            "text/plain": [
              "<Figure size 432x288 with 6 Axes>"
            ]
          },
          "metadata": {
            "needs_background": "light"
          }
        }
      ]
    },
    {
      "cell_type": "code",
      "metadata": {
        "id": "pE-s2xFzjZ2D",
        "colab": {
          "base_uri": "https://localhost:8080/"
        },
        "outputId": "4962eef6-38f5-42f8-8839-122fca71fac3"
      },
      "source": [
        "#finding results on testset\n",
        "with torch.no_grad():\n",
        "  for img,_ in testset:\n",
        "    noisy_img = add_noise(img)\n",
        "    noisy_img = noisy_img.to(device)\n",
        "    reconstructed = model(noisy_img)"
      ],
      "execution_count": null,
      "outputs": [
        {
          "output_type": "stream",
          "name": "stderr",
          "text": [
            "/usr/local/lib/python3.7/dist-packages/torch/nn/functional.py:1805: UserWarning: nn.functional.sigmoid is deprecated. Use torch.sigmoid instead.\n",
            "  warnings.warn(\"nn.functional.sigmoid is deprecated. Use torch.sigmoid instead.\")\n"
          ]
        }
      ]
    },
    {
      "cell_type": "code",
      "metadata": {
        "id": "eyp9NpdyoGzD"
      },
      "source": [
        "noisy_img = noisy_img.cpu()\n",
        "reconstructed = reconstructed.cpu()"
      ],
      "execution_count": null,
      "outputs": []
    },
    {
      "cell_type": "code",
      "metadata": {
        "id": "Nl4f4wt9jyzY",
        "colab": {
          "base_uri": "https://localhost:8080/",
          "height": 517
        },
        "outputId": "95184707-38d3-415a-f1d2-c414f9d1d9a1"
      },
      "source": [
        "noisy_img = noisy_img.detach().numpy()\n",
        "noisy_img = noisy_img.reshape(-1,28,28)\n",
        "reconstructed = reconstructed.detach().numpy()\n",
        "reconstructed = reconstructed.reshape(-1,28,28)\n",
        "for p in range(6):\n",
        "  plt.subplot(2,3,p+1)\n",
        "  plt.imshow(noisy_img[p],cmap='gray')\n",
        "plt.show()\n",
        "for p in range(6):\n",
        "  plt.subplot(2,3,p+1)\n",
        "  plt.imshow(reconstructed[p],cmap='gray')  \n",
        "plt.show()  "
      ],
      "execution_count": null,
      "outputs": [
        {
          "output_type": "display_data",
          "data": {
            "image/png": "[encoded data removed]",
            "text/plain": [
              "<Figure size 432x288 with 6 Axes>"
            ]
          },
          "metadata": {
            "needs_background": "light"
          }
        },
        {
          "output_type": "display_data",
          "data": {
            "image/png": "[encoded data removed]",
            "text/plain": [
              "<Figure size 432x288 with 6 Axes>"
            ]
          },
          "metadata": {
            "needs_background": "light"
          }
        }
      ]
    }
  ]
}